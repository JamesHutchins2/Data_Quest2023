{
 "cells": [
  {
   "cell_type": "code",
   "execution_count": 2,
   "metadata": {},
   "outputs": [],
   "source": [
    "import pandas as pd\n",
    "import tensorflow as tf"
   ]
  },
  {
   "cell_type": "code",
   "execution_count": 3,
   "metadata": {},
   "outputs": [],
   "source": [
    "#import data test and train to df \n",
    "df_test = pd.read_csv('test_data.csv')\n",
    "df_train = pd.read_csv('Train_data.csv')"
   ]
  },
  {
   "cell_type": "code",
   "execution_count": 4,
   "metadata": {},
   "outputs": [
    {
     "name": "stdout",
     "output_type": "stream",
     "text": [
      "(29020, 19)\n",
      "(7255, 19)\n"
     ]
    }
   ],
   "source": [
    "#get shape of data\n",
    "print(df_train.shape)\n",
    "print(df_test.shape)"
   ]
  },
  {
   "attachments": {},
   "cell_type": "markdown",
   "metadata": {},
   "source": [
    "<h1>Data Cleaning</h1>"
   ]
  },
  {
   "cell_type": "code",
   "execution_count": 5,
   "metadata": {},
   "outputs": [
    {
     "name": "stdout",
     "output_type": "stream",
     "text": [
      "BookingID                  0\n",
      "LeadTime                   0\n",
      "ArrivalYear                0\n",
      "ArrivalMonth               0\n",
      "ArrivalDate                0\n",
      "NumWeekendNights           0\n",
      "NumWeekNights              0\n",
      "MealPlan                   0\n",
      "Parking                    0\n",
      "RoomType                   0\n",
      "NumAdults                  0\n",
      "NumChildren                0\n",
      "MarketSegment              0\n",
      "RepeatedGuest              0\n",
      "NumPrevCancellations       0\n",
      "NumPreviousNonCancelled    0\n",
      "AvgRoomPrice               0\n",
      "SpecialRequests            0\n",
      "BookingStatus              0\n",
      "dtype: int64\n"
     ]
    }
   ],
   "source": [
    "#let's look for missing values\n",
    "print(df_train.isnull().sum())"
   ]
  },
  {
   "cell_type": "code",
   "execution_count": 6,
   "metadata": {},
   "outputs": [
    {
     "data": {
      "text/html": [
       "<div>\n",
       "<style scoped>\n",
       "    .dataframe tbody tr th:only-of-type {\n",
       "        vertical-align: middle;\n",
       "    }\n",
       "\n",
       "    .dataframe tbody tr th {\n",
       "        vertical-align: top;\n",
       "    }\n",
       "\n",
       "    .dataframe thead th {\n",
       "        text-align: right;\n",
       "    }\n",
       "</style>\n",
       "<table border=\"1\" class=\"dataframe\">\n",
       "  <thead>\n",
       "    <tr style=\"text-align: right;\">\n",
       "      <th></th>\n",
       "      <th>BookingID</th>\n",
       "      <th>LeadTime</th>\n",
       "      <th>ArrivalYear</th>\n",
       "      <th>ArrivalMonth</th>\n",
       "      <th>ArrivalDate</th>\n",
       "      <th>NumWeekendNights</th>\n",
       "      <th>NumWeekNights</th>\n",
       "      <th>MealPlan</th>\n",
       "      <th>Parking</th>\n",
       "      <th>RoomType</th>\n",
       "      <th>NumAdults</th>\n",
       "      <th>NumChildren</th>\n",
       "      <th>MarketSegment</th>\n",
       "      <th>RepeatedGuest</th>\n",
       "      <th>NumPrevCancellations</th>\n",
       "      <th>NumPreviousNonCancelled</th>\n",
       "      <th>AvgRoomPrice</th>\n",
       "      <th>SpecialRequests</th>\n",
       "      <th>BookingStatus</th>\n",
       "    </tr>\n",
       "  </thead>\n",
       "  <tbody>\n",
       "    <tr>\n",
       "      <th>0</th>\n",
       "      <td>1</td>\n",
       "      <td>10</td>\n",
       "      <td>2018</td>\n",
       "      <td>3</td>\n",
       "      <td>31</td>\n",
       "      <td>0</td>\n",
       "      <td>1</td>\n",
       "      <td>Meal Plan 1</td>\n",
       "      <td>0</td>\n",
       "      <td>Room_Type 1</td>\n",
       "      <td>1</td>\n",
       "      <td>0</td>\n",
       "      <td>Corporate</td>\n",
       "      <td>0</td>\n",
       "      <td>0</td>\n",
       "      <td>0</td>\n",
       "      <td>95.00</td>\n",
       "      <td>0</td>\n",
       "      <td>Canceled</td>\n",
       "    </tr>\n",
       "    <tr>\n",
       "      <th>1</th>\n",
       "      <td>2</td>\n",
       "      <td>116</td>\n",
       "      <td>2018</td>\n",
       "      <td>2</td>\n",
       "      <td>28</td>\n",
       "      <td>2</td>\n",
       "      <td>1</td>\n",
       "      <td>Meal Plan 1</td>\n",
       "      <td>0</td>\n",
       "      <td>Room_Type 1</td>\n",
       "      <td>1</td>\n",
       "      <td>0</td>\n",
       "      <td>Online</td>\n",
       "      <td>0</td>\n",
       "      <td>0</td>\n",
       "      <td>0</td>\n",
       "      <td>61.00</td>\n",
       "      <td>0</td>\n",
       "      <td>Canceled</td>\n",
       "    </tr>\n",
       "    <tr>\n",
       "      <th>2</th>\n",
       "      <td>3</td>\n",
       "      <td>11</td>\n",
       "      <td>2018</td>\n",
       "      <td>7</td>\n",
       "      <td>25</td>\n",
       "      <td>1</td>\n",
       "      <td>2</td>\n",
       "      <td>Meal Plan 1</td>\n",
       "      <td>0</td>\n",
       "      <td>Room_Type 1</td>\n",
       "      <td>2</td>\n",
       "      <td>1</td>\n",
       "      <td>Online</td>\n",
       "      <td>0</td>\n",
       "      <td>0</td>\n",
       "      <td>0</td>\n",
       "      <td>129.75</td>\n",
       "      <td>1</td>\n",
       "      <td>Not_Canceled</td>\n",
       "    </tr>\n",
       "    <tr>\n",
       "      <th>3</th>\n",
       "      <td>4</td>\n",
       "      <td>3</td>\n",
       "      <td>2017</td>\n",
       "      <td>9</td>\n",
       "      <td>12</td>\n",
       "      <td>0</td>\n",
       "      <td>1</td>\n",
       "      <td>Meal Plan 1</td>\n",
       "      <td>0</td>\n",
       "      <td>Room_Type 1</td>\n",
       "      <td>2</td>\n",
       "      <td>0</td>\n",
       "      <td>Online</td>\n",
       "      <td>0</td>\n",
       "      <td>0</td>\n",
       "      <td>0</td>\n",
       "      <td>152.00</td>\n",
       "      <td>3</td>\n",
       "      <td>Not_Canceled</td>\n",
       "    </tr>\n",
       "    <tr>\n",
       "      <th>4</th>\n",
       "      <td>5</td>\n",
       "      <td>28</td>\n",
       "      <td>2018</td>\n",
       "      <td>3</td>\n",
       "      <td>7</td>\n",
       "      <td>1</td>\n",
       "      <td>3</td>\n",
       "      <td>Meal Plan 1</td>\n",
       "      <td>0</td>\n",
       "      <td>Room_Type 1</td>\n",
       "      <td>2</td>\n",
       "      <td>0</td>\n",
       "      <td>Offline</td>\n",
       "      <td>0</td>\n",
       "      <td>0</td>\n",
       "      <td>0</td>\n",
       "      <td>87.00</td>\n",
       "      <td>0</td>\n",
       "      <td>Not_Canceled</td>\n",
       "    </tr>\n",
       "  </tbody>\n",
       "</table>\n",
       "</div>"
      ],
      "text/plain": [
       "   BookingID  LeadTime  ArrivalYear  ArrivalMonth  ArrivalDate  \\\n",
       "0          1        10         2018             3           31   \n",
       "1          2       116         2018             2           28   \n",
       "2          3        11         2018             7           25   \n",
       "3          4         3         2017             9           12   \n",
       "4          5        28         2018             3            7   \n",
       "\n",
       "   NumWeekendNights  NumWeekNights     MealPlan  Parking     RoomType  \\\n",
       "0                 0              1  Meal Plan 1        0  Room_Type 1   \n",
       "1                 2              1  Meal Plan 1        0  Room_Type 1   \n",
       "2                 1              2  Meal Plan 1        0  Room_Type 1   \n",
       "3                 0              1  Meal Plan 1        0  Room_Type 1   \n",
       "4                 1              3  Meal Plan 1        0  Room_Type 1   \n",
       "\n",
       "   NumAdults  NumChildren MarketSegment  RepeatedGuest  NumPrevCancellations  \\\n",
       "0          1            0     Corporate              0                     0   \n",
       "1          1            0        Online              0                     0   \n",
       "2          2            1        Online              0                     0   \n",
       "3          2            0        Online              0                     0   \n",
       "4          2            0       Offline              0                     0   \n",
       "\n",
       "   NumPreviousNonCancelled  AvgRoomPrice  SpecialRequests BookingStatus  \n",
       "0                        0         95.00                0      Canceled  \n",
       "1                        0         61.00                0      Canceled  \n",
       "2                        0        129.75                1  Not_Canceled  \n",
       "3                        0        152.00                3  Not_Canceled  \n",
       "4                        0         87.00                0  Not_Canceled  "
      ]
     },
     "execution_count": 6,
     "metadata": {},
     "output_type": "execute_result"
    }
   ],
   "source": [
    "#take a look at train set\n",
    "df_train.head(5)"
   ]
  },
  {
   "attachments": {},
   "cell_type": "markdown",
   "metadata": {},
   "source": [
    "<h1>Summary Statistics</h1>\n",
    "<p>We will start by looking at the lead time and price columns and summarizing them statistically. We will then normalize this data</p>"
   ]
  },
  {
   "cell_type": "code",
   "execution_count": 7,
   "metadata": {},
   "outputs": [
    {
     "data": {
      "text/plain": [
       "count    29020.000000\n",
       "mean        85.276085\n",
       "std         85.886439\n",
       "min          0.000000\n",
       "25%         17.000000\n",
       "50%         57.000000\n",
       "75%        127.000000\n",
       "max        443.000000\n",
       "Name: LeadTime, dtype: float64"
      ]
     },
     "execution_count": 7,
     "metadata": {},
     "output_type": "execute_result"
    }
   ],
   "source": [
    "#generate summary statistics of the lead time column\n",
    "df_train['LeadTime'].describe()"
   ]
  },
  {
   "cell_type": "code",
   "execution_count": 43,
   "metadata": {},
   "outputs": [],
   "source": [
    "#export the 'MarketSegment' column to a csv\n",
    "df_train['MarketSegment'].to_csv('MarketSegment.csv', index=False)"
   ]
  },
  {
   "cell_type": "code",
   "execution_count": 8,
   "metadata": {},
   "outputs": [],
   "source": [
    "#normalize the data\n",
    "df_train['LeadTimeNormal'] = (df_train['LeadTime'] - df_train['LeadTime'].mean()) / df_train['LeadTime'].std()"
   ]
  },
  {
   "cell_type": "code",
   "execution_count": 9,
   "metadata": {},
   "outputs": [
    {
     "data": {
      "text/plain": [
       "<Axes: >"
      ]
     },
     "execution_count": 9,
     "metadata": {},
     "output_type": "execute_result"
    },
    {
     "data": {
      "image/png": "[encoded data removed]",
      "text/plain": [
       "<Figure size 640x480 with 1 Axes>"
      ]
     },
     "metadata": {},
     "output_type": "display_data"
    }
   ],
   "source": [
    "#histogram of lead time\n",
    "df_train['LeadTimeNormal'].hist()"
   ]
  },
  {
   "cell_type": "code",
   "execution_count": 10,
   "metadata": {},
   "outputs": [
    {
     "data": {
      "text/plain": [
       "count    29020.000000\n",
       "mean       103.474264\n",
       "std         35.052557\n",
       "min          0.000000\n",
       "25%         80.750000\n",
       "50%         99.865000\n",
       "75%        120.127500\n",
       "max        540.000000\n",
       "Name: AvgRoomPrice, dtype: float64"
      ]
     },
     "execution_count": 10,
     "metadata": {},
     "output_type": "execute_result"
    }
   ],
   "source": [
    "#applying the same to price \n",
    "df_train['AvgRoomPrice'].describe()"
   ]
  },
  {
   "cell_type": "code",
   "execution_count": 11,
   "metadata": {},
   "outputs": [],
   "source": [
    "#normalizing the data\n",
    "df_train['AvgRoomPriceNormal'] = (df_train['AvgRoomPrice'] - df_train['AvgRoomPrice'].mean()) / df_train['AvgRoomPrice'].std()"
   ]
  },
  {
   "cell_type": "code",
   "execution_count": 12,
   "metadata": {},
   "outputs": [
    {
     "data": {
      "text/plain": [
       "<Axes: >"
      ]
     },
     "execution_count": 12,
     "metadata": {},
     "output_type": "execute_result"
    },
    {
     "data": {
      "image/png": "[encoded data removed]",
      "text/plain": [
       "<Figure size 640x480 with 1 Axes>"
      ]
     },
     "metadata": {},
     "output_type": "display_data"
    }
   ],
   "source": [
    "#let's make a histogram of AvgRoomPrice\n",
    "df_train['AvgRoomPriceNormal'].hist()"
   ]
  },
  {
   "attachments": {},
   "cell_type": "markdown",
   "metadata": {},
   "source": [
    "<h2>Let's now look at some other columns</h2>\n",
    "<ul>\n",
    "<li>cancellation rates in the 2 data sets</li>\n",
    "</ul>"
   ]
  },
  {
   "cell_type": "code",
   "execution_count": 13,
   "metadata": {},
   "outputs": [
    {
     "data": {
      "text/plain": [
       "Not_Canceled    19500\n",
       "Canceled         9520\n",
       "Name: BookingStatus, dtype: int64"
      ]
     },
     "execution_count": 13,
     "metadata": {},
     "output_type": "execute_result"
    }
   ],
   "source": [
    "#get count of is and is not in bookingStatus\n",
    "df_train['BookingStatus'].value_counts()"
   ]
  },
  {
   "cell_type": "code",
   "execution_count": 14,
   "metadata": {},
   "outputs": [
    {
     "data": {
      "text/plain": [
       "<Axes: >"
      ]
     },
     "execution_count": 14,
     "metadata": {},
     "output_type": "execute_result"
    },
    {
     "data": {
      "image/png": "[encoded data removed]",
      "text/plain": [
       "<Figure size 640x480 with 1 Axes>"
      ]
     },
     "metadata": {},
     "output_type": "display_data"
    }
   ],
   "source": [
    "#plot the booking status\n",
    "df_train['BookingStatus'].value_counts().plot(kind='bar')"
   ]
  },
  {
   "attachments": {},
   "cell_type": "markdown",
   "metadata": {},
   "source": [
    "<h1>Data Pre Processing</h1>\n",
    "<p>We will want to convert all of the columns into some form of numeric representation</p>"
   ]
  },
  {
   "cell_type": "code",
   "execution_count": 15,
   "metadata": {},
   "outputs": [],
   "source": [
    "#lets convert the booking status to a binary value\n",
    "df_train['isCanceled'] = df_train['BookingStatus'].map({'Canceled': 1, 'Not_Canceled': 0})"
   ]
  },
  {
   "attachments": {},
   "cell_type": "markdown",
   "metadata": {},
   "source": [
    "<p>Meal plan column</p>"
   ]
  },
  {
   "cell_type": "code",
   "execution_count": 16,
   "metadata": {},
   "outputs": [
    {
     "data": {
      "text/plain": [
       "array(['Meal Plan 1', 'Meal Plan 2', 'Not Selected', 'Meal Plan 3'],\n",
       "      dtype=object)"
      ]
     },
     "execution_count": 16,
     "metadata": {},
     "output_type": "execute_result"
    }
   ],
   "source": [
    "#look at unique values of the MealPlan\n",
    "df_train['MealPlan'].unique()"
   ]
  },
  {
   "attachments": {},
   "cell_type": "markdown",
   "metadata": {},
   "source": [
    "<p>Let's break this down into two different data vectors to try. The first will be a column that states weather or not they have a meal plan, and the other will contain numeric codes to include the type of meal plan<p>"
   ]
  },
  {
   "cell_type": "code",
   "execution_count": 17,
   "metadata": {},
   "outputs": [],
   "source": [
    "#map Not Selected to 0 and the rest to 1\n",
    "df_train['hasMealPlan'] = df_train['MealPlan'].map({'Not Selected': 0, 'Meal Plan 1': 1, 'Meal Plan 2': 1, 'Meal Plan 3': 1})"
   ]
  },
  {
   "cell_type": "code",
   "execution_count": 18,
   "metadata": {},
   "outputs": [
    {
     "data": {
      "text/plain": [
       "1    24897\n",
       "0     4123\n",
       "Name: hasMealPlan, dtype: int64"
      ]
     },
     "execution_count": 18,
     "metadata": {},
     "output_type": "execute_result"
    }
   ],
   "source": [
    "#look at value counts of the meal plan\n",
    "df_train['hasMealPlan'].value_counts()"
   ]
  },
  {
   "cell_type": "code",
   "execution_count": 19,
   "metadata": {},
   "outputs": [],
   "source": [
    "#map Not Selected to 0 and the rest to 1\n",
    "df_train['MealPlanVals'] = df_train['MealPlan'].map({'Not Selected': 0, 'Meal Plan 1': 1, 'Meal Plan 2': 2, 'Meal Plan 3': 3})"
   ]
  },
  {
   "attachments": {},
   "cell_type": "markdown",
   "metadata": {},
   "source": [
    "<p>Now let's break down the room type column</p>"
   ]
  },
  {
   "cell_type": "code",
   "execution_count": 20,
   "metadata": {},
   "outputs": [
    {
     "data": {
      "text/plain": [
       "array(['Room_Type 1', 'Room_Type 6', 'Room_Type 4', 'Room_Type 2',\n",
       "       'Room_Type 5', 'Room_Type 7', 'Room_Type 3'], dtype=object)"
      ]
     },
     "execution_count": 20,
     "metadata": {},
     "output_type": "execute_result"
    }
   ],
   "source": [
    "df_train['RoomType'].unique()"
   ]
  },
  {
   "cell_type": "code",
   "execution_count": 21,
   "metadata": {},
   "outputs": [],
   "source": [
    "#let's compare room type to price \n",
    "room_type_price = df_train.groupby('RoomType')['AvgRoomPrice'].mean()"
   ]
  },
  {
   "cell_type": "code",
   "execution_count": 22,
   "metadata": {},
   "outputs": [
    {
     "data": {
      "text/plain": [
       "<Axes: xlabel='RoomType'>"
      ]
     },
     "execution_count": 22,
     "metadata": {},
     "output_type": "execute_result"
    },
    {
     "data": {
      "image/png": "[encoded data removed]",
      "text/plain": [
       "<Figure size 640x480 with 1 Axes>"
      ]
     },
     "metadata": {},
     "output_type": "display_data"
    }
   ],
   "source": [
    "# plot that\n",
    "room_type_price.plot(kind='bar')"
   ]
  },
  {
   "cell_type": "code",
   "execution_count": 23,
   "metadata": {},
   "outputs": [],
   "source": [
    "#lets map the room type to a number\n",
    "df_train['RoomTypeVals'] = df_train['RoomType'].map({'Room_Type 1': 1, 'Room_Type 2': 2, 'Room_Type 3': 3, 'Room_Type 4': 4, 'Room_Type 5': 5, 'Room_Type 6': 6, 'Room_Type 7': 7})"
   ]
  },
  {
   "cell_type": "code",
   "execution_count": 24,
   "metadata": {},
   "outputs": [
    {
     "data": {
      "text/plain": [
       "1    22470\n",
       "4     4877\n",
       "6      766\n",
       "2      561\n",
       "5      215\n",
       "7      127\n",
       "3        4\n",
       "Name: RoomTypeVals, dtype: int64"
      ]
     },
     "execution_count": 24,
     "metadata": {},
     "output_type": "execute_result"
    }
   ],
   "source": [
    "#look at value counts\n",
    "df_train['RoomTypeVals'].value_counts()"
   ]
  },
  {
   "cell_type": "code",
   "execution_count": 25,
   "metadata": {},
   "outputs": [
    {
     "data": {
      "text/html": [
       "<div>\n",
       "<style scoped>\n",
       "    .dataframe tbody tr th:only-of-type {\n",
       "        vertical-align: middle;\n",
       "    }\n",
       "\n",
       "    .dataframe tbody tr th {\n",
       "        vertical-align: top;\n",
       "    }\n",
       "\n",
       "    .dataframe thead th {\n",
       "        text-align: right;\n",
       "    }\n",
       "</style>\n",
       "<table border=\"1\" class=\"dataframe\">\n",
       "  <thead>\n",
       "    <tr style=\"text-align: right;\">\n",
       "      <th></th>\n",
       "      <th>BookingID</th>\n",
       "      <th>LeadTime</th>\n",
       "      <th>ArrivalYear</th>\n",
       "      <th>ArrivalMonth</th>\n",
       "      <th>ArrivalDate</th>\n",
       "      <th>NumWeekendNights</th>\n",
       "      <th>NumWeekNights</th>\n",
       "      <th>MealPlan</th>\n",
       "      <th>Parking</th>\n",
       "      <th>RoomType</th>\n",
       "      <th>...</th>\n",
       "      <th>NumPreviousNonCancelled</th>\n",
       "      <th>AvgRoomPrice</th>\n",
       "      <th>SpecialRequests</th>\n",
       "      <th>BookingStatus</th>\n",
       "      <th>LeadTimeNormal</th>\n",
       "      <th>AvgRoomPriceNormal</th>\n",
       "      <th>isCanceled</th>\n",
       "      <th>hasMealPlan</th>\n",
       "      <th>MealPlanVals</th>\n",
       "      <th>RoomTypeVals</th>\n",
       "    </tr>\n",
       "  </thead>\n",
       "  <tbody>\n",
       "    <tr>\n",
       "      <th>0</th>\n",
       "      <td>1</td>\n",
       "      <td>10</td>\n",
       "      <td>2018</td>\n",
       "      <td>3</td>\n",
       "      <td>31</td>\n",
       "      <td>0</td>\n",
       "      <td>1</td>\n",
       "      <td>Meal Plan 1</td>\n",
       "      <td>0</td>\n",
       "      <td>Room_Type 1</td>\n",
       "      <td>...</td>\n",
       "      <td>0</td>\n",
       "      <td>95.00</td>\n",
       "      <td>0</td>\n",
       "      <td>Canceled</td>\n",
       "      <td>-0.876461</td>\n",
       "      <td>-0.241759</td>\n",
       "      <td>1</td>\n",
       "      <td>1</td>\n",
       "      <td>1</td>\n",
       "      <td>1</td>\n",
       "    </tr>\n",
       "    <tr>\n",
       "      <th>1</th>\n",
       "      <td>2</td>\n",
       "      <td>116</td>\n",
       "      <td>2018</td>\n",
       "      <td>2</td>\n",
       "      <td>28</td>\n",
       "      <td>2</td>\n",
       "      <td>1</td>\n",
       "      <td>Meal Plan 1</td>\n",
       "      <td>0</td>\n",
       "      <td>Room_Type 1</td>\n",
       "      <td>...</td>\n",
       "      <td>0</td>\n",
       "      <td>61.00</td>\n",
       "      <td>0</td>\n",
       "      <td>Canceled</td>\n",
       "      <td>0.357727</td>\n",
       "      <td>-1.211731</td>\n",
       "      <td>1</td>\n",
       "      <td>1</td>\n",
       "      <td>1</td>\n",
       "      <td>1</td>\n",
       "    </tr>\n",
       "    <tr>\n",
       "      <th>2</th>\n",
       "      <td>3</td>\n",
       "      <td>11</td>\n",
       "      <td>2018</td>\n",
       "      <td>7</td>\n",
       "      <td>25</td>\n",
       "      <td>1</td>\n",
       "      <td>2</td>\n",
       "      <td>Meal Plan 1</td>\n",
       "      <td>0</td>\n",
       "      <td>Room_Type 1</td>\n",
       "      <td>...</td>\n",
       "      <td>0</td>\n",
       "      <td>129.75</td>\n",
       "      <td>1</td>\n",
       "      <td>Not_Canceled</td>\n",
       "      <td>-0.864817</td>\n",
       "      <td>0.749610</td>\n",
       "      <td>0</td>\n",
       "      <td>1</td>\n",
       "      <td>1</td>\n",
       "      <td>1</td>\n",
       "    </tr>\n",
       "    <tr>\n",
       "      <th>3</th>\n",
       "      <td>4</td>\n",
       "      <td>3</td>\n",
       "      <td>2017</td>\n",
       "      <td>9</td>\n",
       "      <td>12</td>\n",
       "      <td>0</td>\n",
       "      <td>1</td>\n",
       "      <td>Meal Plan 1</td>\n",
       "      <td>0</td>\n",
       "      <td>Room_Type 1</td>\n",
       "      <td>...</td>\n",
       "      <td>0</td>\n",
       "      <td>152.00</td>\n",
       "      <td>3</td>\n",
       "      <td>Not_Canceled</td>\n",
       "      <td>-0.957964</td>\n",
       "      <td>1.384371</td>\n",
       "      <td>0</td>\n",
       "      <td>1</td>\n",
       "      <td>1</td>\n",
       "      <td>1</td>\n",
       "    </tr>\n",
       "    <tr>\n",
       "      <th>4</th>\n",
       "      <td>5</td>\n",
       "      <td>28</td>\n",
       "      <td>2018</td>\n",
       "      <td>3</td>\n",
       "      <td>7</td>\n",
       "      <td>1</td>\n",
       "      <td>3</td>\n",
       "      <td>Meal Plan 1</td>\n",
       "      <td>0</td>\n",
       "      <td>Room_Type 1</td>\n",
       "      <td>...</td>\n",
       "      <td>0</td>\n",
       "      <td>87.00</td>\n",
       "      <td>0</td>\n",
       "      <td>Not_Canceled</td>\n",
       "      <td>-0.666882</td>\n",
       "      <td>-0.469988</td>\n",
       "      <td>0</td>\n",
       "      <td>1</td>\n",
       "      <td>1</td>\n",
       "      <td>1</td>\n",
       "    </tr>\n",
       "  </tbody>\n",
       "</table>\n",
       "<p>5 rows × 25 columns</p>\n",
       "</div>"
      ],
      "text/plain": [
       "   BookingID  LeadTime  ArrivalYear  ArrivalMonth  ArrivalDate  \\\n",
       "0          1        10         2018             3           31   \n",
       "1          2       116         2018             2           28   \n",
       "2          3        11         2018             7           25   \n",
       "3          4         3         2017             9           12   \n",
       "4          5        28         2018             3            7   \n",
       "\n",
       "   NumWeekendNights  NumWeekNights     MealPlan  Parking     RoomType  ...  \\\n",
       "0                 0              1  Meal Plan 1        0  Room_Type 1  ...   \n",
       "1                 2              1  Meal Plan 1        0  Room_Type 1  ...   \n",
       "2                 1              2  Meal Plan 1        0  Room_Type 1  ...   \n",
       "3                 0              1  Meal Plan 1        0  Room_Type 1  ...   \n",
       "4                 1              3  Meal Plan 1        0  Room_Type 1  ...   \n",
       "\n",
       "   NumPreviousNonCancelled  AvgRoomPrice SpecialRequests  BookingStatus  \\\n",
       "0                        0         95.00               0       Canceled   \n",
       "1                        0         61.00               0       Canceled   \n",
       "2                        0        129.75               1   Not_Canceled   \n",
       "3                        0        152.00               3   Not_Canceled   \n",
       "4                        0         87.00               0   Not_Canceled   \n",
       "\n",
       "   LeadTimeNormal  AvgRoomPriceNormal  isCanceled  hasMealPlan MealPlanVals  \\\n",
       "0       -0.876461           -0.241759           1            1            1   \n",
       "1        0.357727           -1.211731           1            1            1   \n",
       "2       -0.864817            0.749610           0            1            1   \n",
       "3       -0.957964            1.384371           0            1            1   \n",
       "4       -0.666882           -0.469988           0            1            1   \n",
       "\n",
       "   RoomTypeVals  \n",
       "0             1  \n",
       "1             1  \n",
       "2             1  \n",
       "3             1  \n",
       "4             1  \n",
       "\n",
       "[5 rows x 25 columns]"
      ]
     },
     "execution_count": 25,
     "metadata": {},
     "output_type": "execute_result"
    }
   ],
   "source": [
    "df_train.head()"
   ]
  },
  {
   "cell_type": "code",
   "execution_count": 26,
   "metadata": {},
   "outputs": [
    {
     "name": "stdout",
     "output_type": "stream",
     "text": [
      "   RoomType_Room_Type 1  RoomType_Room_Type 2  RoomType_Room_Type 3  \\\n",
      "0                     1                     0                     0   \n",
      "1                     1                     0                     0   \n",
      "2                     1                     0                     0   \n",
      "3                     1                     0                     0   \n",
      "4                     1                     0                     0   \n",
      "\n",
      "   RoomType_Room_Type 4  RoomType_Room_Type 5  RoomType_Room_Type 6  \\\n",
      "0                     0                     0                     0   \n",
      "1                     0                     0                     0   \n",
      "2                     0                     0                     0   \n",
      "3                     0                     0                     0   \n",
      "4                     0                     0                     0   \n",
      "\n",
      "   RoomType_Room_Type 7  \n",
      "0                     0  \n",
      "1                     0  \n",
      "2                     0  \n",
      "3                     0  \n",
      "4                     0  \n",
      "   MealPlan_Meal Plan 1  MealPlan_Meal Plan 2  MealPlan_Meal Plan 3  \\\n",
      "0                     1                     0                     0   \n",
      "1                     1                     0                     0   \n",
      "2                     1                     0                     0   \n",
      "3                     1                     0                     0   \n",
      "4                     1                     0                     0   \n",
      "\n",
      "   MealPlan_Not Selected  \n",
      "0                      0  \n",
      "1                      0  \n",
      "2                      0  \n",
      "3                      0  \n",
      "4                      0  \n"
     ]
    }
   ],
   "source": [
    "#let's make dummy variables for the room type\n",
    "room_type_dummies = pd.get_dummies(df_train['RoomType'], prefix='RoomType')\n",
    "#now for meal plan\n",
    "meal_plan_dummies = pd.get_dummies(df_train['MealPlan'], prefix='MealPlan')\n",
    "print(room_type_dummies.head())\n",
    "print(meal_plan_dummies.head())"
   ]
  },
  {
   "cell_type": "code",
   "execution_count": 27,
   "metadata": {},
   "outputs": [],
   "source": [
    "#create a train df with the dummy variables, and the normalized values, and the binary values\n",
    "train_df = pd.concat([df_train, room_type_dummies, meal_plan_dummies], axis=1)"
   ]
  },
  {
   "cell_type": "code",
   "execution_count": 28,
   "metadata": {},
   "outputs": [
    {
     "data": {
      "text/plain": [
       "Index(['BookingID', 'LeadTime', 'ArrivalYear', 'ArrivalMonth', 'ArrivalDate',\n",
       "       'NumWeekendNights', 'NumWeekNights', 'MealPlan', 'Parking', 'RoomType',\n",
       "       'NumAdults', 'NumChildren', 'MarketSegment', 'RepeatedGuest',\n",
       "       'NumPrevCancellations', 'NumPreviousNonCancelled', 'AvgRoomPrice',\n",
       "       'SpecialRequests', 'BookingStatus', 'LeadTimeNormal',\n",
       "       'AvgRoomPriceNormal', 'isCanceled', 'hasMealPlan', 'MealPlanVals',\n",
       "       'RoomTypeVals', 'RoomType_Room_Type 1', 'RoomType_Room_Type 2',\n",
       "       'RoomType_Room_Type 3', 'RoomType_Room_Type 4', 'RoomType_Room_Type 5',\n",
       "       'RoomType_Room_Type 6', 'RoomType_Room_Type 7', 'MealPlan_Meal Plan 1',\n",
       "       'MealPlan_Meal Plan 2', 'MealPlan_Meal Plan 3',\n",
       "       'MealPlan_Not Selected'],\n",
       "      dtype='object')"
      ]
     },
     "execution_count": 28,
     "metadata": {},
     "output_type": "execute_result"
    }
   ],
   "source": [
    "#let's look at the columns\n",
    "train_df.columns"
   ]
  },
  {
   "cell_type": "code",
   "execution_count": 29,
   "metadata": {},
   "outputs": [],
   "source": [
    "#make dummies for market segment\n",
    "market_segment_dummies = pd.get_dummies(df_train['MarketSegment'], prefix='MarketSegment')\n",
    "#add it to df \n",
    "train_df = pd.concat([train_df, market_segment_dummies], axis=1)"
   ]
  },
  {
   "cell_type": "code",
   "execution_count": 30,
   "metadata": {},
   "outputs": [],
   "source": [
    "#let's remove bookingID, AvgRoomPrice, Room Type vals, hasMealPlan, MealPlanVals\n",
    "train_df = train_df.drop(['BookingID','BookingStatus', 'AvgRoomPrice', 'RoomType', 'MealPlan','MarketSegment', 'RoomTypeVals', 'MealPlanVals', 'hasMealPlan'], axis=1)\n"
   ]
  },
  {
   "cell_type": "code",
   "execution_count": 31,
   "metadata": {},
   "outputs": [],
   "source": [
    "#lets make a new df for the model\n",
    "df_model = train_df"
   ]
  },
  {
   "cell_type": "code",
   "execution_count": 32,
   "metadata": {},
   "outputs": [],
   "source": [
    "#we will now have to modify the test data to match the train data\n",
    "df_test['LeadTimeNormal'] = (df_test['LeadTime'] - df_test['LeadTime'].mean()) / df_test['LeadTime'].std()\n",
    "df_test['AvgRoomPriceNormal'] = (df_test['AvgRoomPrice'] - df_test['AvgRoomPrice'].mean()) / df_test['AvgRoomPrice'].std()\n",
    "df_test['isCanceled'] = df_test['BookingStatus'].map({'Canceled': 1, 'Not_Canceled': 0})\n",
    "df_test['hasMealPlan'] = df_test['MealPlan'].map({'Not Selected': 0, 'Meal Plan 1': 1, 'Meal Plan 2': 1, 'Meal Plan 3': 1})\n",
    "df_test['MealPlanVals'] = df_test['MealPlan'].map({'Not Selected': 0, 'Meal Plan 1': 1, 'Meal Plan 2': 2, 'Meal Plan 3': 3})\n",
    "df_test['RoomTypeVals'] = df_test['RoomType'].map({'Room_Type 1': 1, 'Room_Type 2': 2, 'Room_Type 3': 3, 'Room_Type 4': 4, 'Room_Type 5': 5, 'Room_Type 6': 6, 'Room_Type 7': 7})\n",
    "room_type_dummies = pd.get_dummies(df_test['RoomType'], prefix='RoomType')\n",
    "meal_plan_dummies = pd.get_dummies(df_test['MealPlan'], prefix='MealPlan')\n",
    "market_segment_dummies = pd.get_dummies(df_test['MarketSegment'], prefix='MarketSegment')\n",
    "df_test = pd.concat([df_test, room_type_dummies, meal_plan_dummies, market_segment_dummies], axis=1)\n",
    "df_test = df_test.drop(['BookingID','BookingStatus', 'AvgRoomPrice', 'RoomType', 'MealPlan','MarketSegment', 'RoomTypeVals', 'MealPlanVals', 'hasMealPlan'], axis=1)\n",
    "\n"
   ]
  },
  {
   "cell_type": "code",
   "execution_count": 33,
   "metadata": {},
   "outputs": [],
   "source": [
    "# add meal plan 3 to test data\n",
    "df_test['MealPlan_Meal Plan 3'] = 0"
   ]
  },
  {
   "cell_type": "code",
   "execution_count": 34,
   "metadata": {},
   "outputs": [
    {
     "data": {
      "text/html": [
       "<div>\n",
       "<style scoped>\n",
       "    .dataframe tbody tr th:only-of-type {\n",
       "        vertical-align: middle;\n",
       "    }\n",
       "\n",
       "    .dataframe tbody tr th {\n",
       "        vertical-align: top;\n",
       "    }\n",
       "\n",
       "    .dataframe thead th {\n",
       "        text-align: right;\n",
       "    }\n",
       "</style>\n",
       "<table border=\"1\" class=\"dataframe\">\n",
       "  <thead>\n",
       "    <tr style=\"text-align: right;\">\n",
       "      <th></th>\n",
       "      <th>LeadTime</th>\n",
       "      <th>ArrivalYear</th>\n",
       "      <th>ArrivalMonth</th>\n",
       "      <th>ArrivalDate</th>\n",
       "      <th>NumWeekendNights</th>\n",
       "      <th>NumWeekNights</th>\n",
       "      <th>Parking</th>\n",
       "      <th>NumAdults</th>\n",
       "      <th>NumChildren</th>\n",
       "      <th>RepeatedGuest</th>\n",
       "      <th>...</th>\n",
       "      <th>RoomType_Room_Type 7</th>\n",
       "      <th>MealPlan_Meal Plan 1</th>\n",
       "      <th>MealPlan_Meal Plan 2</th>\n",
       "      <th>MealPlan_Not Selected</th>\n",
       "      <th>MarketSegment_Aviation</th>\n",
       "      <th>MarketSegment_Complementary</th>\n",
       "      <th>MarketSegment_Corporate</th>\n",
       "      <th>MarketSegment_Offline</th>\n",
       "      <th>MarketSegment_Online</th>\n",
       "      <th>MealPlan_Meal Plan 3</th>\n",
       "    </tr>\n",
       "  </thead>\n",
       "  <tbody>\n",
       "    <tr>\n",
       "      <th>0</th>\n",
       "      <td>211</td>\n",
       "      <td>2018</td>\n",
       "      <td>5</td>\n",
       "      <td>20</td>\n",
       "      <td>0</td>\n",
       "      <td>2</td>\n",
       "      <td>0</td>\n",
       "      <td>2</td>\n",
       "      <td>0</td>\n",
       "      <td>0</td>\n",
       "      <td>...</td>\n",
       "      <td>0</td>\n",
       "      <td>1</td>\n",
       "      <td>0</td>\n",
       "      <td>0</td>\n",
       "      <td>0</td>\n",
       "      <td>0</td>\n",
       "      <td>0</td>\n",
       "      <td>0</td>\n",
       "      <td>1</td>\n",
       "      <td>0</td>\n",
       "    </tr>\n",
       "    <tr>\n",
       "      <th>1</th>\n",
       "      <td>121</td>\n",
       "      <td>2018</td>\n",
       "      <td>7</td>\n",
       "      <td>6</td>\n",
       "      <td>0</td>\n",
       "      <td>4</td>\n",
       "      <td>0</td>\n",
       "      <td>3</td>\n",
       "      <td>0</td>\n",
       "      <td>0</td>\n",
       "      <td>...</td>\n",
       "      <td>0</td>\n",
       "      <td>1</td>\n",
       "      <td>0</td>\n",
       "      <td>0</td>\n",
       "      <td>0</td>\n",
       "      <td>0</td>\n",
       "      <td>0</td>\n",
       "      <td>1</td>\n",
       "      <td>0</td>\n",
       "      <td>0</td>\n",
       "    </tr>\n",
       "    <tr>\n",
       "      <th>2</th>\n",
       "      <td>30</td>\n",
       "      <td>2018</td>\n",
       "      <td>11</td>\n",
       "      <td>26</td>\n",
       "      <td>2</td>\n",
       "      <td>1</td>\n",
       "      <td>0</td>\n",
       "      <td>2</td>\n",
       "      <td>0</td>\n",
       "      <td>0</td>\n",
       "      <td>...</td>\n",
       "      <td>0</td>\n",
       "      <td>0</td>\n",
       "      <td>0</td>\n",
       "      <td>1</td>\n",
       "      <td>0</td>\n",
       "      <td>0</td>\n",
       "      <td>0</td>\n",
       "      <td>0</td>\n",
       "      <td>1</td>\n",
       "      <td>0</td>\n",
       "    </tr>\n",
       "    <tr>\n",
       "      <th>3</th>\n",
       "      <td>256</td>\n",
       "      <td>2018</td>\n",
       "      <td>6</td>\n",
       "      <td>15</td>\n",
       "      <td>0</td>\n",
       "      <td>2</td>\n",
       "      <td>0</td>\n",
       "      <td>2</td>\n",
       "      <td>0</td>\n",
       "      <td>0</td>\n",
       "      <td>...</td>\n",
       "      <td>0</td>\n",
       "      <td>0</td>\n",
       "      <td>1</td>\n",
       "      <td>0</td>\n",
       "      <td>0</td>\n",
       "      <td>0</td>\n",
       "      <td>0</td>\n",
       "      <td>0</td>\n",
       "      <td>1</td>\n",
       "      <td>0</td>\n",
       "    </tr>\n",
       "    <tr>\n",
       "      <th>4</th>\n",
       "      <td>122</td>\n",
       "      <td>2018</td>\n",
       "      <td>11</td>\n",
       "      <td>25</td>\n",
       "      <td>0</td>\n",
       "      <td>1</td>\n",
       "      <td>0</td>\n",
       "      <td>1</td>\n",
       "      <td>0</td>\n",
       "      <td>0</td>\n",
       "      <td>...</td>\n",
       "      <td>0</td>\n",
       "      <td>1</td>\n",
       "      <td>0</td>\n",
       "      <td>0</td>\n",
       "      <td>0</td>\n",
       "      <td>0</td>\n",
       "      <td>1</td>\n",
       "      <td>0</td>\n",
       "      <td>0</td>\n",
       "      <td>0</td>\n",
       "    </tr>\n",
       "  </tbody>\n",
       "</table>\n",
       "<p>5 rows × 32 columns</p>\n",
       "</div>"
      ],
      "text/plain": [
       "   LeadTime  ArrivalYear  ArrivalMonth  ArrivalDate  NumWeekendNights  \\\n",
       "0       211         2018             5           20                 0   \n",
       "1       121         2018             7            6                 0   \n",
       "2        30         2018            11           26                 2   \n",
       "3       256         2018             6           15                 0   \n",
       "4       122         2018            11           25                 0   \n",
       "\n",
       "   NumWeekNights  Parking  NumAdults  NumChildren  RepeatedGuest  ...  \\\n",
       "0              2        0          2            0              0  ...   \n",
       "1              4        0          3            0              0  ...   \n",
       "2              1        0          2            0              0  ...   \n",
       "3              2        0          2            0              0  ...   \n",
       "4              1        0          1            0              0  ...   \n",
       "\n",
       "   RoomType_Room_Type 7  MealPlan_Meal Plan 1  MealPlan_Meal Plan 2  \\\n",
       "0                     0                     1                     0   \n",
       "1                     0                     1                     0   \n",
       "2                     0                     0                     0   \n",
       "3                     0                     0                     1   \n",
       "4                     0                     1                     0   \n",
       "\n",
       "   MealPlan_Not Selected  MarketSegment_Aviation  MarketSegment_Complementary  \\\n",
       "0                      0                       0                            0   \n",
       "1                      0                       0                            0   \n",
       "2                      1                       0                            0   \n",
       "3                      0                       0                            0   \n",
       "4                      0                       0                            0   \n",
       "\n",
       "   MarketSegment_Corporate  MarketSegment_Offline  MarketSegment_Online  \\\n",
       "0                        0                      0                     1   \n",
       "1                        0                      1                     0   \n",
       "2                        0                      0                     1   \n",
       "3                        0                      0                     1   \n",
       "4                        1                      0                     0   \n",
       "\n",
       "   MealPlan_Meal Plan 3  \n",
       "0                     0  \n",
       "1                     0  \n",
       "2                     0  \n",
       "3                     0  \n",
       "4                     0  \n",
       "\n",
       "[5 rows x 32 columns]"
      ]
     },
     "execution_count": 34,
     "metadata": {},
     "output_type": "execute_result"
    }
   ],
   "source": [
    "df_test.head()"
   ]
  },
  {
   "cell_type": "code",
   "execution_count": 35,
   "metadata": {},
   "outputs": [
    {
     "name": "stdout",
     "output_type": "stream",
     "text": [
      "Index(['LeadTime', 'ArrivalYear', 'ArrivalMonth', 'ArrivalDate',\n",
      "       'NumWeekendNights', 'NumWeekNights', 'Parking', 'NumAdults',\n",
      "       'NumChildren', 'RepeatedGuest', 'NumPrevCancellations',\n",
      "       'NumPreviousNonCancelled', 'SpecialRequests', 'LeadTimeNormal',\n",
      "       'AvgRoomPriceNormal', 'isCanceled', 'RoomType_Room_Type 1',\n",
      "       'RoomType_Room_Type 2', 'RoomType_Room_Type 3', 'RoomType_Room_Type 4',\n",
      "       'RoomType_Room_Type 5', 'RoomType_Room_Type 6', 'RoomType_Room_Type 7',\n",
      "       'MealPlan_Meal Plan 1', 'MealPlan_Meal Plan 2', 'MealPlan_Meal Plan 3',\n",
      "       'MealPlan_Not Selected', 'MarketSegment_Aviation',\n",
      "       'MarketSegment_Complementary', 'MarketSegment_Corporate',\n",
      "       'MarketSegment_Offline', 'MarketSegment_Online'],\n",
      "      dtype='object')\n",
      "Index(['LeadTime', 'ArrivalYear', 'ArrivalMonth', 'ArrivalDate',\n",
      "       'NumWeekendNights', 'NumWeekNights', 'Parking', 'NumAdults',\n",
      "       'NumChildren', 'RepeatedGuest', 'NumPrevCancellations',\n",
      "       'NumPreviousNonCancelled', 'SpecialRequests', 'LeadTimeNormal',\n",
      "       'AvgRoomPriceNormal', 'isCanceled', 'RoomType_Room_Type 1',\n",
      "       'RoomType_Room_Type 2', 'RoomType_Room_Type 3', 'RoomType_Room_Type 4',\n",
      "       'RoomType_Room_Type 5', 'RoomType_Room_Type 6', 'RoomType_Room_Type 7',\n",
      "       'MealPlan_Meal Plan 1', 'MealPlan_Meal Plan 2', 'MealPlan_Not Selected',\n",
      "       'MarketSegment_Aviation', 'MarketSegment_Complementary',\n",
      "       'MarketSegment_Corporate', 'MarketSegment_Offline',\n",
      "       'MarketSegment_Online', 'MealPlan_Meal Plan 3'],\n",
      "      dtype='object')\n"
     ]
    }
   ],
   "source": [
    "#check that test and train have the same columns\n",
    "print(df_model.columns)\n",
    "print(df_test.columns)"
   ]
  },
  {
   "cell_type": "code",
   "execution_count": 36,
   "metadata": {},
   "outputs": [],
   "source": [
    "# re arrange the columns\n",
    "df_test = df_test[df_model.columns]"
   ]
  },
  {
   "cell_type": "code",
   "execution_count": 41,
   "metadata": {},
   "outputs": [],
   "source": [
    "#add avg room to df_model\n",
    "df_model['AvgRoomPrice'] = df_train['AvgRoomPrice']"
   ]
  },
  {
   "cell_type": "code",
   "execution_count": 42,
   "metadata": {},
   "outputs": [],
   "source": [
    "#export these to csv\n",
    "df_model.to_csv('train_df.csv', index=False)\n",
    "df_test.to_csv('test_df.csv', index=False)"
   ]
  },
  {
   "attachments": {},
   "cell_type": "markdown",
   "metadata": {},
   "source": [
    "<h1>Model Exploration</h1>"
   ]
  },
  {
   "cell_type": "code",
   "execution_count": 38,
   "metadata": {},
   "outputs": [],
   "source": [
    "# let's preform linear regression\n",
    "from sklearn.linear_model import LinearRegression\n",
    "from sklearn.model_selection import train_test_split\n",
    "from sklearn.metrics import mean_squared_error\n",
    "\n"
   ]
  },
  {
   "cell_type": "code",
   "execution_count": 39,
   "metadata": {},
   "outputs": [
    {
     "data": {
      "text/plain": [
       "0.8053066850447967"
      ]
     },
     "execution_count": 39,
     "metadata": {},
     "output_type": "execute_result"
    }
   ],
   "source": [
    "#we already have the train df, so we will use that\n",
    "#we will use the isCanceled column as the target\n",
    "#we will use the rest of the columns as the features\n",
    "X_train = df_model.drop('isCanceled', axis=1)\n",
    "y_train = df_model['isCanceled']\n",
    "\n",
    "#split the data into train and test\n",
    "X_train, X_test, y_train, y_test = train_test_split(X_train, y_train, test_size=0.2, random_state=42)\n",
    "\n",
    "#instantiate the model\n",
    "lm = LinearRegression()\n",
    "\n",
    "#fit the model\n",
    "lm.fit(X_train, y_train)\n",
    "\n",
    "#predict\n",
    "y_pred = lm.predict(X_test)\n",
    "\n",
    "#evaluate accuracy of prediction, if the prediction is within 0.5 of the actual value, we will count it as correct\n",
    "#round y_pred to 0 or 1\n",
    "import numpy as np\n",
    "y_pred_round = np.round(y_pred)\n",
    "#compare y_pred_round to y_test\n",
    "\n",
    "#calculate accuracy\n",
    "from sklearn.metrics import accuracy_score\n",
    "accuracy_score(y_test, y_pred_round)\n",
    "\n",
    "\n"
   ]
  },
  {
   "cell_type": "code",
   "execution_count": 40,
   "metadata": {},
   "outputs": [
    {
     "data": {
      "text/plain": [
       "0.762749827705031"
      ]
     },
     "execution_count": 40,
     "metadata": {},
     "output_type": "execute_result"
    }
   ],
   "source": [
    "#now let's preform pca on the data\n",
    "from sklearn.decomposition import PCA\n",
    "\n",
    "#instantiate the model\n",
    "pca = PCA(n_components=2)\n",
    "\n",
    "#fit the model\n",
    "pca.fit(X_train)\n",
    "\n",
    "#transform the data\n",
    "X_train_pca = pca.transform(X_train)\n",
    "X_test_pca = pca.transform(X_test)\n",
    "\n",
    "#instantiate the model\n",
    "lm_pca = LinearRegression()\n",
    "\n",
    "#fit the model\n",
    "lm_pca.fit(X_train_pca, y_train)\n",
    "\n",
    "#predict\n",
    "y_pred_pca = lm_pca.predict(X_test_pca)\n",
    "\n",
    "#round y_pred to 0 or 1\n",
    "\n",
    "y_pred_round_pca = np.round(y_pred_pca)\n",
    "#compare y_pred_round to y_test\n",
    "\n",
    "#calculate accuracy\n",
    "\n",
    "accuracy_score(y_test, y_pred_round_pca)\n",
    "\n"
   ]
  },
  {
   "cell_type": "code",
   "execution_count": 44,
   "metadata": {},
   "outputs": [
    {
     "data": {
      "text/plain": [
       "Index(['BookingID', 'LeadTime', 'ArrivalYear', 'ArrivalMonth', 'ArrivalDate',\n",
       "       'NumWeekendNights', 'NumWeekNights', 'MealPlan', 'Parking', 'RoomType',\n",
       "       'NumAdults', 'NumChildren', 'MarketSegment', 'RepeatedGuest',\n",
       "       'NumPrevCancellations', 'NumPreviousNonCancelled', 'AvgRoomPrice',\n",
       "       'SpecialRequests', 'BookingStatus', 'LeadTimeNormal',\n",
       "       'AvgRoomPriceNormal', 'isCanceled', 'hasMealPlan', 'MealPlanVals',\n",
       "       'RoomTypeVals'],\n",
       "      dtype='object')"
      ]
     },
     "execution_count": 44,
     "metadata": {},
     "output_type": "execute_result"
    }
   ],
   "source": [
    "df_train.columns"
   ]
  },
  {
   "cell_type": "code",
   "execution_count": 45,
   "metadata": {},
   "outputs": [],
   "source": [
    "#create a date column from the year and month and date columns\n",
    "df_train['Date'] = df_train['ArrivalYear'].astype(str) + '-' + df_train['ArrivalMonth'].astype(str) + '-' + df_train['ArrivalDate'].astype(str)"
   ]
  },
  {
   "cell_type": "code",
   "execution_count": 46,
   "metadata": {},
   "outputs": [
    {
     "name": "stdout",
     "output_type": "stream",
     "text": [
      "0    2018-3-31\n",
      "1    2018-2-28\n",
      "2    2018-7-25\n",
      "3    2017-9-12\n",
      "4     2018-3-7\n",
      "Name: Date, dtype: object\n"
     ]
    }
   ],
   "source": [
    "print(df_train['Date'].head())"
   ]
  },
  {
   "attachments": {},
   "cell_type": "markdown",
   "metadata": {},
   "source": [
    "<h1>PCA</h1>"
   ]
  }
 ],
 "metadata": {
  "kernelspec": {
   "display_name": "venv",
   "language": "python",
   "name": "python3"
  },
  "language_info": {
   "codemirror_mode": {
    "name": "ipython",
    "version": 3
   },
   "file_extension": ".py",
   "mimetype": "text/x-python",
   "name": "python",
   "nbconvert_exporter": "python",
   "pygments_lexer": "ipython3",
   "version": "3.10.6"
  },
  "orig_nbformat": 4
 },
 "nbformat": 4,
 "nbformat_minor": 2
}
